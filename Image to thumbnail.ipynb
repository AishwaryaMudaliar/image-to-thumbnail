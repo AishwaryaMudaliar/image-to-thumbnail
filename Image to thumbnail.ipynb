{
 "cells": [
  {
   "cell_type": "code",
   "execution_count": 1,
   "metadata": {},
   "outputs": [],
   "source": [
    "from PIL import Image"
   ]
  },
  {
   "cell_type": "code",
   "execution_count": 14,
   "metadata": {},
   "outputs": [],
   "source": [
    "im = Image.open(r\"C:\\Users\\saran\\OneDrive\\Pictures\\WhatsApp Image 2020-10-19 at 17.31.02.jpeg\")\n",
    " \n",
    "# Size of the image in pixels (size of original image)\n",
    "# (This is not mandatory)\n",
    "width, height = im.size\n",
    " \n",
    "# Setting the points for cropped image\n",
    "left = 100\n",
    "top = height / 6\n",
    "right = 174\n",
    "bottom = 3 * height / 5\n",
    " \n",
    "# Cropped image of above dimension\n",
    "# (It will not change original image)\n",
    "im1 = im.crop((left, top, right, bottom))\n",
    "newsize = (400, 400)\n",
    "im1 = im1.resize(newsize)\n",
    "# Shows the image in image viewer\n",
    "im.save('Croppedimage.jpg')\n",
    "im1.show()\n"
   ]
  },
  {
   "cell_type": "code",
   "execution_count": 16,
   "metadata": {},
   "outputs": [],
   "source": [
    "# creating a object\n",
    "image = Image.open(\"croppedimage.png\")\n",
    "\n",
    "MAX_SIZE = (100, 100)\n",
    "\n",
    "image.thumbnail(MAX_SIZE)\n",
    "\n",
    "# creating thumbnail\n",
    "image.save('pythonthumb.png')\n",
    "image.show()"
   ]
  },
  {
   "cell_type": "code",
   "execution_count": null,
   "metadata": {},
   "outputs": [],
   "source": []
  },
  {
   "cell_type": "code",
   "execution_count": null,
   "metadata": {},
   "outputs": [],
   "source": []
  }
 ],
 "metadata": {
  "kernelspec": {
   "display_name": "Python 3",
   "language": "python",
   "name": "python3"
  },
  "language_info": {
   "codemirror_mode": {
    "name": "ipython",
    "version": 3
   },
   "file_extension": ".py",
   "mimetype": "text/x-python",
   "name": "python",
   "nbconvert_exporter": "python",
   "pygments_lexer": "ipython3",
   "version": "3.8.5"
  }
 },
 "nbformat": 4,
 "nbformat_minor": 4
}
